{
 "cells": [
  {
   "cell_type": "markdown",
   "metadata": {},
   "source": [
    "# Causing Auto Collisions\n",
    "\n",
    "Auto accidents happen every day all across the nation.  In fact, the average number of accidents per year is about 6 million.  The result of these collisions ending in property damage (72%), personal injury (27%), and death 6%).  Outside of alcohol and substance abuse, speeding, and distracted driving, what are the main causes for these accidents?\n",
    "\n",
    "In an attempt to better understand what factors play into a resulting collision, an analysis on past collisions taking place in the region of Seattle, Washington will be reviewed.  The data set, provided by SPD and recorded by Traffic Records, spans the years of 2004 through to September of 2019 and includes accidents resulting in either property damage or injury.  All accidents resulting in serious injury and/or a fatality have been scrubbed from the data.  \n",
    "\n",
    "Possible contributing variables include weather, road conditions, time of day, speed.  Whether or not the driver was under the influence or distracted will also be reviewed.  Additional consideration to include if pedestrians and/or bicyclists were involved, as well as where and how the the car was impacted."
   ]
  },
  {
   "cell_type": "code",
   "execution_count": null,
   "metadata": {},
   "outputs": [],
   "source": []
  }
 ],
 "metadata": {
  "kernelspec": {
   "display_name": "Python",
   "language": "python",
   "name": "conda-env-python-py"
  },
  "language_info": {
   "codemirror_mode": {
    "name": "ipython",
    "version": 3
   },
   "file_extension": ".py",
   "mimetype": "text/x-python",
   "name": "python",
   "nbconvert_exporter": "python",
   "pygments_lexer": "ipython3",
   "version": "3.6.11"
  }
 },
 "nbformat": 4,
 "nbformat_minor": 4
}
